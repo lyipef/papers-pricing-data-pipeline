{
 "cells": [
  {
   "cell_type": "code",
   "execution_count": null,
   "id": "8efd756c",
   "metadata": {},
   "outputs": [
    {
     "name": "stdout",
     "output_type": "stream",
     "text": [
      "          date   close    open    high     low  volume\n",
      "120 1991-01-01  5.2352  5.2352  5.2352  5.2352       0\n",
      "121 1991-02-01  5.2352  5.2352  5.2352  5.2352       0\n",
      "122 1991-03-01  5.2352  5.2352  5.2352  5.2352       0\n",
      "123 1991-04-01  5.3036  5.3036  5.3036  5.3036       0\n",
      "124 1991-05-01  5.3490  5.3490  5.3490  5.3490       0\n",
      "..         ...     ...     ...     ...     ...     ...\n",
      "527 2024-12-01  7.2528  7.2996  7.2387  7.2993       0\n",
      "528 2025-01-01  7.3002  7.3328  7.2376  7.2507       0\n",
      "529 2025-02-01  7.2514  7.3098  7.2288  7.2828       0\n",
      "530 2025-03-01  7.2826  7.2935  7.2161  7.2567       0\n",
      "531 2025-04-01  7.2606  7.3511  7.2603  7.2864       0\n",
      "\n",
      "[412 rows x 6 columns]\n"
     ]
    }
   ],
   "source": [
    "import json\n",
    "from datetime import datetime\n",
    "\n",
    "import pandas as pd\n",
    "from bs4 import BeautifulSoup\n",
    "from selenium import webdriver\n",
    "from selenium.webdriver.chrome.service import Service\n",
    "\n",
    "def export_to_parquet(df: pd.DataFrame, output_path: str) -> None:\n",
    "    df.to_parquet(output_path, index=False)\n",
    "\n",
    "chromedriver_path = \"C:\\\\Users\\\\josef\\\\projects\\\\data-engineer-test-suzano\\\\plugins\\\\chromedriver.exe\"\n",
    "\n",
    "\n",
    "def init_driver(chromedriver_path: str) -> webdriver.Chrome:\n",
    "    options = webdriver.ChromeOptions()\n",
    "    options.add_argument('--headless')\n",
    "    options.add_argument('--no-sandbox')\n",
    "    options.add_argument('--disable-dev-shm-usage')\n",
    "    options.add_argument('--window-size=1920,1080')\n",
    "    options.add_argument('--lang=pt-BR')\n",
    "    options.add_argument('--user-agent=Mozilla/5.0 (Windows NT 10.0; Win64; x64) AppleWebKit/537.36 (KHTML, like Gecko) Chrome/123.0.0.0 Safari/537.36')\n",
    "    options.add_experimental_option(\"excludeSwitches\", [\"enable-automation\"])\n",
    "    options.add_experimental_option('useAutomationExtension', False)\n",
    "\n",
    "    service = Service(executable_path=chromedriver_path)\n",
    "    return webdriver.Chrome(service=service, options=options)\n",
    "\n",
    "def fetch_usd_cny_data(driver: webdriver.Chrome) -> pd.DataFrame:\n",
    "    \n",
    "    url = \"https://api.investing.com/api/financialdata/2111/historical/chart/?interval=P1M&period=MAX&pointscount=160\"\n",
    "    driver.get(url)\n",
    "\n",
    "    soup = BeautifulSoup(driver.page_source, \"html.parser\")\n",
    "    tag = soup.find(\"pre\")\n",
    "    if not tag:\n",
    "        raise ValueError()\n",
    "\n",
    "    json_data = json.loads(tag.text)\n",
    "    data = json_data.get(\"data\", [])\n",
    "\n",
    "    df = pd.DataFrame(data, columns=[\"timestamp\", \"close\", \"open\", \"high\", \"low\", \"volume\", \"unknown\"])\n",
    "    df[\"date\"] = pd.to_datetime(df[\"timestamp\"], unit=\"ms\")\n",
    "    df = df[df[\"date\"] >= \"1991-01-01\"]\n",
    "    df.drop(columns=[\"timestamp\", \"unknown\"], inplace=True)\n",
    "\n",
    "    return df[[\"date\", \"close\", \"open\", \"high\", \"low\", \"volume\"]]\n",
    "\n",
    "driver = init_driver(chromedriver_path)\n",
    "df = df_usd_cny = fetch_usd_cny_data(driver)\n",
    "print(df)\n",
    "export_to_parquet(df, \"C:\\\\Users\\\\josef\\\\projects\\\\data-engineer-test-suzano\\\\include\\\\datasets\\\\usd_cny.parquet\")"
   ]
  }
 ],
 "metadata": {
  "kernelspec": {
   "display_name": "venv",
   "language": "python",
   "name": "python3"
  },
  "language_info": {
   "codemirror_mode": {
    "name": "ipython",
    "version": 3
   },
   "file_extension": ".py",
   "mimetype": "text/x-python",
   "name": "python",
   "nbconvert_exporter": "python",
   "pygments_lexer": "ipython3",
   "version": "3.13.3"
  }
 },
 "nbformat": 4,
 "nbformat_minor": 5
}
